{
 "cells": [
  {
   "cell_type": "code",
   "execution_count": 1,
   "metadata": {},
   "outputs": [],
   "source": [
    "#include <iostream>"
   ]
  },
  {
   "cell_type": "code",
   "execution_count": 2,
   "metadata": {},
   "outputs": [],
   "source": [
    "#include <vector>\n",
    "#include <stdlib.h>\n",
    "\n",
    "vector<int> X;\n",
    "for(int idx=0; idx<100; idx++)\n",
    "    X.push_back(rand()%100);"
   ]
  },
  {
   "cell_type": "code",
   "execution_count": 3,
   "metadata": {},
   "outputs": [
    {
     "name": "stdout",
     "output_type": "stream",
     "text": [
      "(std::vector<int> &) { 48, 77, 75, 72, 65, 31, 72, 52, 3, 96, 80, 20, 57, 19, 54, 78, 25, 90, 5, 55, 41, 80, 33, 75, 39, 11, 27, 5, 67, 14, 28, 67, 43, 4, 40, 60, 87, 64, 12, 90, 60, 92, 10, 69, 63, 64, 0, 88, 7, 5, 44, 0, 37, 77, 75, 28, 40, 54, 33, 59, 20, 62, 27, 63, 18, 19, 23, 5, 83, 87, 48, 95, 79, 10, 16, 42, 27, 16, 83, 34, 73, 27, 34, 10, 56, 61, 38, 48, 15, 24, 60, 35, 86, 87, 50, 56, 6, 25, 13, 41 }\n"
     ]
    }
   ],
   "source": [
    "X"
   ]
  },
  {
   "cell_type": "code",
   "execution_count": 4,
   "metadata": {},
   "outputs": [],
   "source": [
    "#include \"TH1D.h\"\n",
    "\n",
    "auto h1 = new TH1D(\"h1\", \"histogram\", 100, 0, 100);\n",
    "for(auto it=X.begin(); it!=X.end(); it++)\n",
    "{\n",
    "    h1->Fill(*it);\n",
    "}"
   ]
  },
  {
   "cell_type": "code",
   "execution_count": 5,
   "metadata": {},
   "outputs": [
    {
     "name": "stderr",
     "output_type": "stream",
     "text": [
      "Info in <TCanvas::MakeDefCanvas>:  created default TCanvas with name c1\n"
     ]
    }
   ],
   "source": [
    "h1->Draw()"
   ]
  },
  {
   "cell_type": "code",
   "execution_count": 6,
   "metadata": {},
   "outputs": [
    {
     "data": {
      "text/html": [
       "\n",
       "\n",
       "<div id=\"root_plot_1717609768413\"\n",
       "     style=\"width: 696px; height: 472px\">\n",
       "</div>\n",
       "<script>\n",
       "\n",
       "function display_root_plot_1717609768413(Core) {\n",
       "   let obj = Core.parse({\"_typename\":\"TCanvas\",\"fUniqueID\":0,\"fBits\":3342344,\"fLineColor\":1,\"fLineStyle\":1,\"fLineWidth\":1,\"fFillColor\":0,\"fFillStyle\":1001,\"fLeftMargin\":0.1,\"fRightMargin\":0.1,\"fBottomMargin\":0.1,\"fTopMargin\":0.1,\"fXfile\":2,\"fYfile\":2,\"fAfile\":1,\"fXstat\":0.99,\"fYstat\":0.99,\"fAstat\":2,\"fFrameFillColor\":0,\"fFrameLineColor\":1,\"fFrameFillStyle\":1001,\"fFrameLineStyle\":1,\"fFrameLineWidth\":1,\"fFrameBorderSize\":1,\"fFrameBorderMode\":0,\"fX1\":-12.5000009313226,\"fY1\":-0.52500003911555,\"fX2\":112.500000931323,\"fY2\":4.72500003911555,\"fXtoAbsPixelk\":69.6000541484835,\"fXtoPixelk\":69.6000541484835,\"fXtoPixel\":5.56799991703033,\"fYtoAbsPixelk\":424.800047186661,\"fYtoPixelk\":424.800047186661,\"fYtoPixel\":-89.9047605650765,\"fUtoAbsPixelk\":5e-5,\"fUtoPixelk\":5e-5,\"fUtoPixel\":696,\"fVtoAbsPixelk\":472.00005,\"fVtoPixelk\":472,\"fVtoPixel\":-472,\"fAbsPixeltoXk\":-12.5000009313226,\"fPixeltoXk\":-12.5000009313226,\"fPixeltoX\":0.17959770382564,\"fAbsPixeltoYk\":4.72500003911555,\"fPixeltoYk\":-0.52500003911555,\"fPixeltoY\":-0.0111228815216761,\"fXlowNDC\":0,\"fYlowNDC\":0,\"fXUpNDC\":1,\"fYUpNDC\":1,\"fWNDC\":1,\"fHNDC\":1,\"fAbsXlowNDC\":0,\"fAbsYlowNDC\":0,\"fAbsWNDC\":1,\"fAbsHNDC\":1,\"fUxmin\":0,\"fUymin\":0,\"fUxmax\":100,\"fUymax\":4.2,\"fTheta\":30,\"fPhi\":30,\"fAspectRatio\":0,\"fNumber\":0,\"fTickx\":0,\"fTicky\":0,\"fLogx\":0,\"fLogy\":0,\"fLogz\":0,\"fPadPaint\":0,\"fCrosshair\":0,\"fCrosshairPos\":0,\"fBorderSize\":2,\"fBorderMode\":0,\"fModified\":false,\"fGridx\":false,\"fGridy\":false,\"fAbsCoord\":false,\"fEditable\":true,\"fFixedAspectRatio\":false,\"fPrimitives\":{\"_typename\":\"TList\",\"name\":\"TList\",\"arr\":[{\"_typename\":\"TFrame\",\"fUniqueID\":0,\"fBits\":8,\"fLineColor\":1,\"fLineStyle\":1,\"fLineWidth\":1,\"fFillColor\":0,\"fFillStyle\":1001,\"fX1\":0,\"fY1\":0,\"fX2\":100,\"fY2\":4.2,\"fBorderSize\":1,\"fBorderMode\":0},{\"_typename\":\"TH1D\",\"fUniqueID\":0,\"fBits\":8,\"fName\":\"h1\",\"fTitle\":\"histogram\",\"fLineColor\":602,\"fLineStyle\":1,\"fLineWidth\":1,\"fFillColor\":0,\"fFillStyle\":1001,\"fMarkerColor\":1,\"fMarkerStyle\":1,\"fMarkerSize\":1,\"fNcells\":102,\"fXaxis\":{\"_typename\":\"TAxis\",\"fUniqueID\":0,\"fBits\":0,\"fName\":\"xaxis\",\"fTitle\":\"\",\"fNdivisions\":510,\"fAxisColor\":1,\"fLabelColor\":1,\"fLabelFont\":42,\"fLabelOffset\":0.005,\"fLabelSize\":0.035,\"fTickLength\":0.03,\"fTitleOffset\":1,\"fTitleSize\":0.035,\"fTitleColor\":1,\"fTitleFont\":42,\"fNbins\":100,\"fXmin\":0,\"fXmax\":100,\"fXbins\":[],\"fFirst\":0,\"fLast\":0,\"fBits2\":0,\"fTimeDisplay\":false,\"fTimeFormat\":\"\",\"fLabels\":null,\"fModLabs\":null},\"fYaxis\":{\"_typename\":\"TAxis\",\"fUniqueID\":0,\"fBits\":0,\"fName\":\"yaxis\",\"fTitle\":\"\",\"fNdivisions\":510,\"fAxisColor\":1,\"fLabelColor\":1,\"fLabelFont\":42,\"fLabelOffset\":0.005,\"fLabelSize\":0.035,\"fTickLength\":0.03,\"fTitleOffset\":0,\"fTitleSize\":0.035,\"fTitleColor\":1,\"fTitleFont\":42,\"fNbins\":1,\"fXmin\":0,\"fXmax\":1,\"fXbins\":[],\"fFirst\":0,\"fLast\":0,\"fBits2\":0,\"fTimeDisplay\":false,\"fTimeFormat\":\"\",\"fLabels\":null,\"fModLabs\":null},\"fZaxis\":{\"_typename\":\"TAxis\",\"fUniqueID\":0,\"fBits\":0,\"fName\":\"zaxis\",\"fTitle\":\"\",\"fNdivisions\":510,\"fAxisColor\":1,\"fLabelColor\":1,\"fLabelFont\":42,\"fLabelOffset\":0.005,\"fLabelSize\":0.035,\"fTickLength\":0.03,\"fTitleOffset\":1,\"fTitleSize\":0.035,\"fTitleColor\":1,\"fTitleFont\":42,\"fNbins\":1,\"fXmin\":0,\"fXmax\":1,\"fXbins\":[],\"fFirst\":0,\"fLast\":0,\"fBits2\":0,\"fTimeDisplay\":false,\"fTimeFormat\":\"\",\"fLabels\":null,\"fModLabs\":null},\"fBarOffset\":0,\"fBarWidth\":1000,\"fEntries\":100,\"fTsumw\":100,\"fTsumw2\":100,\"fTsumwx\":4568,\"fTsumwx2\":284202,\"fMaximum\":-1111,\"fMinimum\":-1111,\"fNormFactor\":0,\"fContour\":[],\"fSumw2\":[],\"fOption\":\"\",\"fFunctions\":{\"_typename\":\"TList\",\"name\":\"TList\",\"arr\":[{\"_typename\":\"TPaveStats\",\"fUniqueID\":0,\"fBits\":9,\"fLineColor\":1,\"fLineStyle\":1,\"fLineWidth\":1,\"fFillColor\":0,\"fFillStyle\":1001,\"fX1\":85.0000025331975,\"fY1\":3.54375005280599,\"fX2\":110.000003278256,\"fY2\":4.3837500465475,\"fX1NDC\":0.780000016093254,\"fY1NDC\":0.775000005960464,\"fX2NDC\":0.980000019073486,\"fY2NDC\":0.935000002384186,\"fBorderSize\":1,\"fInit\":1,\"fShadowColor\":1,\"fCornerRadius\":0,\"fOption\":\"brNDC\",\"fName\":\"stats\",\"fTextAngle\":0,\"fTextSize\":0,\"fTextAlign\":12,\"fTextColor\":1,\"fTextFont\":42,\"fLabel\":\"\",\"fLongest\":18,\"fMargin\":0.05,\"fLines\":{\"_typename\":\"TList\",\"name\":\"TList\",\"arr\":[{\"_typename\":\"TLatex\",\"fUniqueID\":0,\"fBits\":0,\"fName\":\"\",\"fTitle\":\"h1\",\"fTextAngle\":0,\"fTextSize\":0.0368,\"fTextAlign\":0,\"fTextColor\":0,\"fTextFont\":0,\"fX\":0,\"fY\":0,\"fLineColor\":1,\"fLineStyle\":1,\"fLineWidth\":2,\"fLimitFactorSize\":3,\"fOriginSize\":0.0368000008165836},{\"_typename\":\"TLatex\",\"fUniqueID\":0,\"fBits\":0,\"fName\":\"\",\"fTitle\":\"Entries = 100    \",\"fTextAngle\":0,\"fTextSize\":0,\"fTextAlign\":0,\"fTextColor\":0,\"fTextFont\":0,\"fX\":0,\"fY\":0,\"fLineColor\":1,\"fLineStyle\":1,\"fLineWidth\":2,\"fLimitFactorSize\":3,\"fOriginSize\":0.04},{\"_typename\":\"TLatex\",\"fUniqueID\":0,\"fBits\":0,\"fName\":\"\",\"fTitle\":\"Mean  =  45.68\",\"fTextAngle\":0,\"fTextSize\":0,\"fTextAlign\":0,\"fTextColor\":0,\"fTextFont\":0,\"fX\":0,\"fY\":0,\"fLineColor\":1,\"fLineStyle\":1,\"fLineWidth\":2,\"fLimitFactorSize\":3,\"fOriginSize\":0.04},{\"_typename\":\"TLatex\",\"fUniqueID\":0,\"fBits\":0,\"fName\":\"\",\"fTitle\":\"Std Dev   =  27.48\",\"fTextAngle\":0,\"fTextSize\":0,\"fTextAlign\":0,\"fTextColor\":0,\"fTextFont\":0,\"fX\":0,\"fY\":0,\"fLineColor\":1,\"fLineStyle\":1,\"fLineWidth\":2,\"fLimitFactorSize\":3,\"fOriginSize\":0.04}],\"opt\":[\"\",\"\",\"\",\"\"]},\"fOptFit\":0,\"fOptStat\":1111,\"fFitFormat\":\"5.4g\",\"fStatFormat\":\"6.4g\",\"fParent\":{\"$ref\":3}}],\"opt\":[\"brNDC\"]},\"fBufferSize\":0,\"fBuffer\":[],\"fBinStatErrOpt\":0,\"fStatOverflows\":2,\"fArray\":{\"$arr\":\"Float64\",\"len\":102,\"p\":1,\"v\":[2,0,0,1,1,4,1,1,0,0,3,1,1,1,1,1,2,0,1,2,2,0,0,1,1,2,0,4,2,0,0,1,0,2,2,1,0,1,1,1,2,2,1,1,1,0,0,0,3,0,1,0,1,0,2,1,2,1,0,1,3,1,1,2,2,1,0,2,0,1,0,0,2,1,0,3,0,2,1,1,2,0,0,2,0,0,1,3,1,0,2,0,1,0,0,1,1]}},{\"_typename\":\"TPaveText\",\"fUniqueID\":0,\"fBits\":9,\"fLineColor\":1,\"fLineStyle\":1,\"fLineWidth\":1,\"fFillColor\":0,\"fFillStyle\":0,\"fX1\":38.4231320113993,\"fY1\":4.37841107593408,\"fX2\":61.5768679886007,\"fY2\":4.69875006375835,\"fX1NDC\":0.407385057471264,\"fY1NDC\":0.933983055615829,\"fX2NDC\":0.592614942528736,\"fY2NDC\":0.995000004768372,\"fBorderSize\":0,\"fInit\":1,\"fShadowColor\":1,\"fCornerRadius\":0,\"fOption\":\"blNDC\",\"fName\":\"title\",\"fTextAngle\":0,\"fTextSize\":0,\"fTextAlign\":22,\"fTextColor\":1,\"fTextFont\":42,\"fLabel\":\"\",\"fLongest\":9,\"fMargin\":0.05,\"fLines\":{\"_typename\":\"TList\",\"name\":\"TList\",\"arr\":[{\"_typename\":\"TLatex\",\"fUniqueID\":0,\"fBits\":0,\"fName\":\"\",\"fTitle\":\"histogram\",\"fTextAngle\":0,\"fTextSize\":0,\"fTextAlign\":0,\"fTextColor\":0,\"fTextFont\":0,\"fX\":0,\"fY\":0,\"fLineColor\":1,\"fLineStyle\":1,\"fLineWidth\":2,\"fLimitFactorSize\":3,\"fOriginSize\":0.0518644079566002}],\"opt\":[\"\"]}},{\"_typename\":\"TStyle\",\"fUniqueID\":0,\"fBits\":0,\"fName\":\"Modern\",\"fTitle\":\"Modern Style\",\"fLineColor\":1,\"fLineStyle\":1,\"fLineWidth\":1,\"fFillColor\":19,\"fFillStyle\":1001,\"fMarkerColor\":1,\"fMarkerStyle\":1,\"fMarkerSize\":1,\"fTextAngle\":0,\"fTextSize\":0.05,\"fTextAlign\":11,\"fTextColor\":1,\"fTextFont\":62,\"fXaxis\":{\"_typename\":\"TAttAxis\",\"fNdivisions\":510,\"fAxisColor\":1,\"fLabelColor\":1,\"fLabelFont\":42,\"fLabelOffset\":0.005,\"fLabelSize\":0.035,\"fTickLength\":0.03,\"fTitleOffset\":1,\"fTitleSize\":0.035,\"fTitleColor\":1,\"fTitleFont\":42},\"fYaxis\":{\"_typename\":\"TAttAxis\",\"fNdivisions\":510,\"fAxisColor\":1,\"fLabelColor\":1,\"fLabelFont\":42,\"fLabelOffset\":0.005,\"fLabelSize\":0.035,\"fTickLength\":0.03,\"fTitleOffset\":0,\"fTitleSize\":0.035,\"fTitleColor\":1,\"fTitleFont\":42},\"fZaxis\":{\"_typename\":\"TAttAxis\",\"fNdivisions\":510,\"fAxisColor\":1,\"fLabelColor\":1,\"fLabelFont\":42,\"fLabelOffset\":0.005,\"fLabelSize\":0.035,\"fTickLength\":0.03,\"fTitleOffset\":1,\"fTitleSize\":0.035,\"fTitleColor\":1,\"fTitleFont\":42},\"fBarWidth\":1,\"fBarOffset\":0,\"fColorModelPS\":0,\"fDrawBorder\":0,\"fOptLogx\":0,\"fOptLogy\":0,\"fOptLogz\":0,\"fOptDate\":0,\"fOptStat\":1111,\"fOptTitle\":1,\"fOptFile\":0,\"fOptFit\":0,\"fShowEventStatus\":0,\"fShowEditor\":0,\"fShowToolBar\":0,\"fNumberContours\":20,\"fAttDate\":{\"_typename\":\"TAttText\",\"fTextAngle\":0,\"fTextSize\":0.025,\"fTextAlign\":11,\"fTextColor\":1,\"fTextFont\":62},\"fDateX\":0.01,\"fDateY\":0.01,\"fEndErrorSize\":2,\"fErrorX\":0.5,\"fFuncColor\":2,\"fFuncStyle\":1,\"fFuncWidth\":2,\"fGridColor\":0,\"fGridStyle\":3,\"fGridWidth\":1,\"fLegendBorderSize\":1,\"fLegendFillColor\":0,\"fLegendFont\":42,\"fLegendTextSize\":0,\"fHatchesLineWidth\":1,\"fHatchesSpacing\":1,\"fFrameFillColor\":0,\"fFrameLineColor\":1,\"fFrameFillStyle\":1001,\"fFrameLineStyle\":1,\"fFrameLineWidth\":1,\"fFrameBorderSize\":1,\"fFrameBorderMode\":0,\"fHistFillColor\":0,\"fHistLineColor\":602,\"fHistFillStyle\":1001,\"fHistLineStyle\":1,\"fHistLineWidth\":1,\"fHistMinimumZero\":false,\"fHistTopMargin\":0.05,\"fCanvasPreferGL\":false,\"fCanvasColor\":0,\"fCanvasBorderSize\":2,\"fCanvasBorderMode\":0,\"fCanvasDefH\":500,\"fCanvasDefW\":700,\"fCanvasDefX\":10,\"fCanvasDefY\":10,\"fPadColor\":0,\"fPadBorderSize\":2,\"fPadBorderMode\":0,\"fPadBottomMargin\":0.1,\"fPadTopMargin\":0.1,\"fPadLeftMargin\":0.1,\"fPadRightMargin\":0.1,\"fPadGridX\":false,\"fPadGridY\":false,\"fPadTickX\":0,\"fPadTickY\":0,\"fPaperSizeX\":20,\"fPaperSizeY\":26,\"fScreenFactor\":1,\"fStatColor\":0,\"fStatTextColor\":1,\"fStatBorderSize\":1,\"fStatFont\":42,\"fStatFontSize\":0,\"fStatStyle\":1001,\"fStatFormat\":\"6.4g\",\"fStatX\":0.98,\"fStatY\":0.935,\"fStatW\":0.2,\"fStatH\":0.16,\"fStripDecimals\":true,\"fTitleAlign\":23,\"fTitleColor\":0,\"fTitleTextColor\":1,\"fTitleBorderSize\":0,\"fTitleFont\":42,\"fTitleFontSize\":0.05,\"fTitleStyle\":0,\"fTitleX\":0.5,\"fTitleY\":0.995,\"fTitleW\":0,\"fTitleH\":0,\"fLegoInnerR\":0.5,\"fLineStyles\":[\"\",\"  \",\" 12 12\",\" 4 8\",\" 12 16 4 16\",\" 20 12 4 12\",\" 20 12 4 12 4 12 4 12\",\" 20 20\",\" 20 12 4 12 4 12\",\" 80 20\",\" 80 40 4 40\",\"  \",\"  \",\"  \",\"  \",\"  \",\"  \",\"  \",\"  \",\"  \",\"  \",\"  \",\"  \",\"  \",\"  \",\"  \",\"  \",\"  \",\"  \",\"  \"],\"fHeaderPS\":\"\",\"fTitlePS\":\"\",\"fFitFormat\":\"5.4g\",\"fPaintTextFormat\":\"g\",\"fLineScalePS\":3,\"fJoinLinePS\":0,\"fCapLinePS\":0,\"fTimeOffset\":788918400,\"fImageScaling\":1}],\"opt\":[\"\",\"\",\"blNDC\",\"\"]},\"fExecs\":null,\"fName\":\"c1\",\"fTitle\":\"c1\",\"fNumPaletteColor\":0,\"fNextPaletteColor\":0,\"fDISPLAY\":\"$DISPLAY\",\"fDoubleBuffer\":0,\"fRetained\":true,\"fXsizeUser\":0,\"fYsizeUser\":0,\"fXsizeReal\":20,\"fYsizeReal\":14.28571,\"fWindowTopX\":0,\"fWindowTopY\":0,\"fWindowWidth\":0,\"fWindowHeight\":0,\"fCw\":696,\"fCh\":472,\"fCatt\":{\"_typename\":\"TAttCanvas\",\"fXBetween\":2,\"fYBetween\":2,\"fTitleFromTop\":1.2,\"fXdate\":0.2,\"fYdate\":0.3,\"fAdate\":1},\"kMoveOpaque\":true,\"kResizeOpaque\":true,\"fHighLightColor\":2,\"fBatch\":true,\"kShowEventStatus\":false,\"kAutoExec\":true,\"kMenuBar\":true});\n",
       "   Core.settings.HandleKeys = false;\n",
       "   Core.draw(\"root_plot_1717609768413\", obj, \"\");\n",
       "}\n",
       "\n",
       "function script_load_root_plot_1717609768413(src, on_error) {\n",
       "    let script = document.createElement('script');\n",
       "    script.src = src;\n",
       "    script.onload = function() { display_root_plot_1717609768413(JSROOT); };\n",
       "    script.onerror = function() { script.remove(); on_error(); };\n",
       "    document.head.appendChild(script);\n",
       "}\n",
       "\n",
       "if (typeof requirejs !== 'undefined') {\n",
       "\n",
       "    // We are in jupyter notebooks, use require.js which should be configured already\n",
       "    requirejs.config({\n",
       "       paths: { 'JSRootCore' : [ 'scripts/JSRoot.core', 'https://root.cern/js/6.1.1/scripts/JSRoot.core.min', 'https://jsroot.gsi.de/6.1.1/scripts/JSRoot.core.min' ] }\n",
       "    })(['JSRootCore'],  function(Core) {\n",
       "       display_root_plot_1717609768413(Core);\n",
       "    });\n",
       "\n",
       "} else if (typeof JSROOT !== 'undefined') {\n",
       "\n",
       "   // JSROOT already loaded, just use it\n",
       "   display_root_plot_1717609768413(JSROOT);\n",
       "\n",
       "} else {\n",
       "\n",
       "    // We are in jupyterlab without require.js, directly loading jsroot\n",
       "    // Jupyterlab might be installed in a different base_url so we need to know it.\n",
       "    try {\n",
       "        var base_url = JSON.parse(document.getElementById('jupyter-config-data').innerHTML).baseUrl;\n",
       "    } catch(_) {\n",
       "        var base_url = '/';\n",
       "    }\n",
       "\n",
       "    // Try loading a local version of requirejs and fallback to cdn if not possible.\n",
       "    script_load_root_plot_1717609768413(base_url + 'static/scripts/JSRoot.core.js', function(){\n",
       "        console.error('Fail to load JSROOT locally, please check your jupyter_notebook_config.py file');\n",
       "        script_load_root_plot_1717609768413('https://root.cern/js/6.1.1/scripts/JSRoot.core.min.js', function(){\n",
       "            document.getElementById(\"root_plot_1717609768413\").innerHTML = \"Failed to load JSROOT\";\n",
       "        });\n",
       "    });\n",
       "}\n",
       "\n",
       "</script>\n"
      ],
      "text/plain": [
       "<IPython.core.display.HTML object>"
      ]
     },
     "metadata": {},
     "output_type": "display_data"
    }
   ],
   "source": [
    "%jsroot on\n",
    "\n",
    "c1->Draw()"
   ]
  },
  {
   "cell_type": "code",
   "execution_count": 7,
   "metadata": {},
   "outputs": [
    {
     "name": "stdout",
     "output_type": "stream",
     "text": [
      "(double) 3.4716663\n"
     ]
    }
   ],
   "source": [
    "auto func = new TF1(\"f1\", \"TMath::Gaus(x,0,1)\", -5, 5);\n",
    "func->GetRandom()"
   ]
  },
  {
   "cell_type": "code",
   "execution_count": 8,
   "metadata": {},
   "outputs": [],
   "source": [
    "#include \"TH2D.h\"\n",
    "auto h2d = new TH2D(\"h2d\", \"histogram 2d\", 100, -5, 5, 100, -5, 5);"
   ]
  },
  {
   "cell_type": "code",
   "execution_count": 9,
   "metadata": {},
   "outputs": [],
   "source": [
    "for(int idx=0; idx<10000; idx++)\n",
    "    h2d->Fill(func->GetRandom(),func->GetRandom());"
   ]
  },
  {
   "cell_type": "code",
   "execution_count": 10,
   "metadata": {},
   "outputs": [
    {
     "data": {
      "text/html": [
       "\n",
       "\n",
       "<div id=\"root_plot_1717609770510\"\n",
       "     style=\"width: 696px; height: 472px\">\n",
       "</div>\n",
       "<script>\n",
       "\n",
       "function display_root_plot_1717609770510(Core) {\n",
       "   let obj = Core.parse({\"_typename\":\"TCanvas\",\"fUniqueID\":0,\"fBits\":3342344,\"fLineColor\":1,\"fLineStyle\":1,\"fLineWidth\":1,\"fFillColor\":0,\"fFillStyle\":1001,\"fLeftMargin\":0.1,\"fRightMargin\":0.1,\"fBottomMargin\":0.1,\"fTopMargin\":0.1,\"fXfile\":2,\"fYfile\":2,\"fAfile\":1,\"fXstat\":0.99,\"fYstat\":0.99,\"fAstat\":2,\"fFrameFillColor\":0,\"fFrameLineColor\":1,\"fFrameFillStyle\":1001,\"fFrameLineStyle\":1,\"fFrameLineWidth\":1,\"fFrameBorderSize\":1,\"fFrameBorderMode\":0,\"fX1\":-6.25000009313226,\"fY1\":-6.25000009313226,\"fX2\":6.25000009313226,\"fY2\":6.25000009313226,\"fXtoAbsPixelk\":348.00005,\"fXtoPixelk\":348.00005,\"fXtoPixel\":55.6799991703033,\"fYtoAbsPixelk\":236.00005,\"fYtoPixelk\":236.00005,\"fYtoPixel\":-37.7599994373321,\"fUtoAbsPixelk\":5e-5,\"fUtoPixelk\":5e-5,\"fUtoPixel\":696,\"fVtoAbsPixelk\":472.00005,\"fVtoPixelk\":472,\"fVtoPixel\":-472,\"fAbsPixeltoXk\":-6.25000009313226,\"fPixeltoXk\":-6.25000009313226,\"fPixeltoX\":0.017959770382564,\"fAbsPixeltoYk\":6.25000009313226,\"fPixeltoYk\":-6.25000009313226,\"fPixeltoY\":-0.0264830512420859,\"fXlowNDC\":0,\"fYlowNDC\":0,\"fXUpNDC\":1,\"fYUpNDC\":1,\"fWNDC\":1,\"fHNDC\":1,\"fAbsXlowNDC\":0,\"fAbsYlowNDC\":0,\"fAbsWNDC\":1,\"fAbsHNDC\":1,\"fUxmin\":-5,\"fUymin\":-5,\"fUxmax\":5,\"fUymax\":5,\"fTheta\":30,\"fPhi\":30,\"fAspectRatio\":0,\"fNumber\":0,\"fTickx\":0,\"fTicky\":0,\"fLogx\":0,\"fLogy\":0,\"fLogz\":0,\"fPadPaint\":0,\"fCrosshair\":0,\"fCrosshairPos\":0,\"fBorderSize\":2,\"fBorderMode\":0,\"fModified\":false,\"fGridx\":false,\"fGridy\":false,\"fAbsCoord\":false,\"fEditable\":true,\"fFixedAspectRatio\":false,\"fPrimitives\":{\"_typename\":\"TList\",\"name\":\"TList\",\"arr\":[{\"_typename\":\"TFrame\",\"fUniqueID\":0,\"fBits\":8,\"fLineColor\":1,\"fLineStyle\":1,\"fLineWidth\":1,\"fFillColor\":0,\"fFillStyle\":1001,\"fX1\":-5,\"fY1\":-5,\"fX2\":5,\"fY2\":5,\"fBorderSize\":1,\"fBorderMode\":0},{\"_typename\":\"TH2D\",\"fUniqueID\":0,\"fBits\":8,\"fName\":\"h2d\",\"fTitle\":\"histogram 2d\",\"fLineColor\":602,\"fLineStyle\":1,\"fLineWidth\":1,\"fFillColor\":0,\"fFillStyle\":1001,\"fMarkerColor\":1,\"fMarkerStyle\":1,\"fMarkerSize\":1,\"fNcells\":10404,\"fXaxis\":{\"_typename\":\"TAxis\",\"fUniqueID\":0,\"fBits\":0,\"fName\":\"xaxis\",\"fTitle\":\"\",\"fNdivisions\":510,\"fAxisColor\":1,\"fLabelColor\":1,\"fLabelFont\":42,\"fLabelOffset\":0.005,\"fLabelSize\":0.035,\"fTickLength\":0.03,\"fTitleOffset\":1,\"fTitleSize\":0.035,\"fTitleColor\":1,\"fTitleFont\":42,\"fNbins\":100,\"fXmin\":-5,\"fXmax\":5,\"fXbins\":[],\"fFirst\":0,\"fLast\":0,\"fBits2\":0,\"fTimeDisplay\":false,\"fTimeFormat\":\"\",\"fLabels\":null,\"fModLabs\":null},\"fYaxis\":{\"_typename\":\"TAxis\",\"fUniqueID\":0,\"fBits\":0,\"fName\":\"yaxis\",\"fTitle\":\"\",\"fNdivisions\":510,\"fAxisColor\":1,\"fLabelColor\":1,\"fLabelFont\":42,\"fLabelOffset\":0.005,\"fLabelSize\":0.035,\"fTickLength\":0.03,\"fTitleOffset\":0,\"fTitleSize\":0.035,\"fTitleColor\":1,\"fTitleFont\":42,\"fNbins\":100,\"fXmin\":-5,\"fXmax\":5,\"fXbins\":[],\"fFirst\":0,\"fLast\":0,\"fBits2\":0,\"fTimeDisplay\":false,\"fTimeFormat\":\"\",\"fLabels\":null,\"fModLabs\":null},\"fZaxis\":{\"_typename\":\"TAxis\",\"fUniqueID\":0,\"fBits\":0,\"fName\":\"zaxis\",\"fTitle\":\"\",\"fNdivisions\":510,\"fAxisColor\":1,\"fLabelColor\":1,\"fLabelFont\":42,\"fLabelOffset\":0.005,\"fLabelSize\":0.035,\"fTickLength\":0.03,\"fTitleOffset\":1,\"fTitleSize\":0.035,\"fTitleColor\":1,\"fTitleFont\":42,\"fNbins\":1,\"fXmin\":0,\"fXmax\":1,\"fXbins\":[],\"fFirst\":0,\"fLast\":0,\"fBits2\":0,\"fTimeDisplay\":false,\"fTimeFormat\":\"\",\"fLabels\":null,\"fModLabs\":null},\"fBarOffset\":0,\"fBarWidth\":1000,\"fEntries\":10000,\"fTsumw\":10000,\"fTsumw2\":10000,\"fTsumwx\":-46.8346314642443,\"fTsumwx2\":10013.1177797912,\"fMaximum\":-1111,\"fMinimum\":-1111,\"fNormFactor\":0,\"fContour\":{\"$arr\":\"Float64\",\"len\":20,\"p\":1,\"v\":[1.3,2.6,3.9,5.2,6.5,7.8,9.1,10.4,11.7,13,14.3,15.6,16.9,18.2,19.5,20.8,22.1,23.4,24.7]},\"fSumw2\":[],\"fOption\":\"\",\"fFunctions\":{\"_typename\":\"TList\",\"name\":\"TList\",\"arr\":[{\"_typename\":\"TPaletteAxis\",\"fUniqueID\":0,\"fBits\":0,\"fLineColor\":1,\"fLineStyle\":1,\"fLineWidth\":1,\"fFillColor\":1178,\"fFillStyle\":1001,\"fX1\":5.06250000093132,\"fY1\":-5,\"fX2\":5.62500000931323,\"fY2\":5,\"fX1NDC\":0.904999994039535,\"fY1NDC\":0.100000005960465,\"fX2NDC\":0.949999994039535,\"fY2NDC\":0.899999994039535,\"fBorderSize\":4,\"fInit\":1,\"fShadowColor\":1,\"fCornerRadius\":0,\"fOption\":\"br\",\"fName\":\"palette\",\"fAxis\":{\"_typename\":\"TGaxis\",\"fUniqueID\":0,\"fBits\":0,\"fLineColor\":1,\"fLineStyle\":1,\"fLineWidth\":1,\"fX1\":0,\"fY1\":0,\"fX2\":0,\"fY2\":0,\"fTextAngle\":0,\"fTextSize\":0.04,\"fTextAlign\":11,\"fTextColor\":1,\"fTextFont\":42,\"fWmin\":0,\"fWmax\":0,\"fGridLength\":0,\"fTickSize\":0.03,\"fLabelOffset\":0.005,\"fLabelSize\":0.035,\"fTitleOffset\":1,\"fTitleSize\":0.035,\"fNdiv\":0,\"fLabelColor\":1,\"fLabelFont\":42,\"fNModLabs\":0,\"fChopt\":\"\",\"fName\":\"\",\"fTitle\":\"\",\"fTimeFormat\":\"\",\"fFunctionName\":\"\",\"fModLabs\":null}},{\"_typename\":\"TPaveStats\",\"fUniqueID\":0,\"fBits\":9,\"fLineColor\":1,\"fLineStyle\":1,\"fLineWidth\":1,\"fFillColor\":0,\"fFillStyle\":1001,\"fX1\":3.50000025331975,\"fY1\":2.43750013317913,\"fX2\":6.00000032782556,\"fY2\":5.43750011082739,\"fX1NDC\":0.780000016093254,\"fY1NDC\":0.695000007748604,\"fX2NDC\":0.980000019073486,\"fY2NDC\":0.935000002384186,\"fBorderSize\":1,\"fInit\":1,\"fShadowColor\":1,\"fCornerRadius\":0,\"fOption\":\"brNDC\",\"fName\":\"stats\",\"fTextAngle\":0,\"fTextSize\":0,\"fTextAlign\":12,\"fTextColor\":1,\"fTextFont\":42,\"fLabel\":\"\",\"fLongest\":18,\"fMargin\":0.05,\"fLines\":{\"_typename\":\"TList\",\"name\":\"TList\",\"arr\":[{\"_typename\":\"TLatex\",\"fUniqueID\":0,\"fBits\":0,\"fName\":\"\",\"fTitle\":\"h2d\",\"fTextAngle\":0,\"fTextSize\":0.0368,\"fTextAlign\":0,\"fTextColor\":0,\"fTextFont\":0,\"fX\":0,\"fY\":0,\"fLineColor\":1,\"fLineStyle\":1,\"fLineWidth\":2,\"fLimitFactorSize\":3,\"fOriginSize\":0.0368000008165836},{\"_typename\":\"TLatex\",\"fUniqueID\":0,\"fBits\":0,\"fName\":\"\",\"fTitle\":\"Entries = 10000  \",\"fTextAngle\":0,\"fTextSize\":0,\"fTextAlign\":0,\"fTextColor\":0,\"fTextFont\":0,\"fX\":0,\"fY\":0,\"fLineColor\":1,\"fLineStyle\":1,\"fLineWidth\":2,\"fLimitFactorSize\":3,\"fOriginSize\":0.04},{\"_typename\":\"TLatex\",\"fUniqueID\":0,\"fBits\":0,\"fName\":\"\",\"fTitle\":\"Mean x = -0.004683\",\"fTextAngle\":0,\"fTextSize\":0,\"fTextAlign\":0,\"fTextColor\":0,\"fTextFont\":0,\"fX\":0,\"fY\":0,\"fLineColor\":1,\"fLineStyle\":1,\"fLineWidth\":2,\"fLimitFactorSize\":3,\"fOriginSize\":0.04},{\"_typename\":\"TLatex\",\"fUniqueID\":0,\"fBits\":0,\"fName\":\"\",\"fTitle\":\"Mean y = 0.0003501\",\"fTextAngle\":0,\"fTextSize\":0,\"fTextAlign\":0,\"fTextColor\":0,\"fTextFont\":0,\"fX\":0,\"fY\":0,\"fLineColor\":1,\"fLineStyle\":1,\"fLineWidth\":2,\"fLimitFactorSize\":3,\"fOriginSize\":0.04},{\"_typename\":\"TLatex\",\"fUniqueID\":0,\"fBits\":0,\"fName\":\"\",\"fTitle\":\"Std Dev x =  1.001\",\"fTextAngle\":0,\"fTextSize\":0,\"fTextAlign\":0,\"fTextColor\":0,\"fTextFont\":0,\"fX\":0,\"fY\":0,\"fLineColor\":1,\"fLineStyle\":1,\"fLineWidth\":2,\"fLimitFactorSize\":3,\"fOriginSize\":0.04},{\"_typename\":\"TLatex\",\"fUniqueID\":0,\"fBits\":0,\"fName\":\"\",\"fTitle\":\"Std Dev y =  1.002\",\"fTextAngle\":0,\"fTextSize\":0,\"fTextAlign\":0,\"fTextColor\":0,\"fTextFont\":0,\"fX\":0,\"fY\":0,\"fLineColor\":1,\"fLineStyle\":1,\"fLineWidth\":2,\"fLimitFactorSize\":3,\"fOriginSize\":0.04}],\"opt\":[\"\",\"\",\"\",\"\",\"\",\"\"]},\"fOptFit\":0,\"fOptStat\":1111,\"fFitFormat\":\"5.4g\",\"fStatFormat\":\"6.4g\",\"fParent\":{\"$ref\":3}}],\"opt\":[\"br\",\"brNDC\"]},\"fBufferSize\":0,\"fBuffer\":[],\"fBinStatErrOpt\":0,\"fStatOverflows\":2,\"fScalefactor\":1,\"fTsumwy\":3.50069822176763,\"fTsumwy2\":10046.7676301967,\"fTsumwxy\":115.394351784082,\"fArray\":{\"$arr\":\"Float64\",\"len\":10404,\"p\":868,\"v\":1,\"p1\":1884,\"v1\":1,\"p2\":2000,\"v2\":[1,0,1],\"p3\":2081,\"v3\":[1,0,0,0,0,0,0,0,0,1,0,0,0,1,0,0,0,0,0,1,1,0,0,1],\"p4\":2118,\"v4\":1,\"p5\":2170,\"v5\":[1,0,0,0,0,0,1,0,0,2,1,0,0,0,0,0,0,0,0,1,0,0,0,0,0,1],\"p6\":2289,\"v6\":[1,0,1,1,0,0,0,1,0,0,0,1,0,0,0,1,0,0,0,0,0,0,1],\"p7\":2369,\"v7\":[1,0,0,0,0,0,0,0,0,1],\"p8\":2390,\"v8\":[2,1,0,0,1,1,1,0,0,0,0,3,0,1,0,0,0,1],\"p9\":2484,\"v9\":[1,0,0,0,1,0,0,0,0,1,3,1,0,1,3,0,1,0,0,0,0,0,2,1,0,0,0,0,1,0,0,1],\"p10\":2579,\"v10\":1,\"p11\":2592,\"v11\":[1,0,0,2,0,1,0,0,0,0,0,0,0,0,1,0,0,1,1],\"p12\":2684,\"v12\":[1,0,0,0,1,1,0,0,1,1,1,1,3,1,0,1,1,1,1,3,1,2,1,0,0,0,0,0,1,0,0,0,0,2],\"p13\":2781,\"v13\":[1,0,0,0,0,0,1,0,0,0,1,0,0,1,2,0,0,0,1,0,1,2,0,3,0,1,0,1,2,0,1,0,1,1,1,0,0,1,0,1],\"p14\":2886,\"v14\":[1,1,0,0,1,0,0,1,0,1,1,0,0,1,3,1,0,0,1,1,1,1,3,0,2,0,1,0,2,4,0,0,0,1,3,0,0,0,0,1],\"p15\":2988,\"v15\":[1,2,1,0,0,0,0,0,1,1,1,2,1,2,0,2,2,3,3,1,2,1,1,5,3,1,1,1,1,0,0,1,2,0,1,1,2,0,0,1],\"p16\":3084,\"v16\":[1,0,0,0,0,0,0,0,0,0,3,1,0,1,0,2,0,1,3,1,2,1,1,0,1,7,4,2,3,3,2,1,2,1,1,2,4,0,3,0,0,1,0,0,1,1,1,0,1,0,0,0,0,1],\"p17\":3196,\"v17\":[1,1,0,2,3,1,3,3,2,2,0,2,1,1,1,6,0,1,2,3,4,1,2,0,2,2,0,1,1,2,1,1,3,0,1],\"p18\":3287,\"v18\":1,\"p19\":3298,\"v19\":[2,0,2,1,0,1,1,3,3,3,2,4,4,3,2,3,3,3,2,2,1,0,2,3,0,2,1,3,0,2,1,2,0,0,1,0,1,0,1],\"p20\":3396,\"v20\":[1,2,0,1,0,1,1,1,1,3,3,1,2,5,3,4,3,2,3,3,4,4,7,5,3,8,3,1,1,3,2,1,2,0,0,0,0,0,1,0,1],\"p21\":3492,\"v21\":[1,1,0,0,2,1,1,2,1,1,0,2,3,2,2,3,2,0,3,2,1,5,2,5,0,2,4,2,2,2,2,3,1,4,7,3,1,0,2,1,3,0,0,1,0,0,0,2,1,1,0,0,0,0,0,0,0,0,0,1],\"p22\":3597,\"v22\":[2,1,0,2,1,1,1,0,3,1,3,4,4,2,2,5,1,3,3,5,9,3,6,2,8,3,4,1,6,3,3,3,3,1,3,1,2,3,2,3,2,3,1,1,0,1,1,0,0,1,0,0,1,1],\"p23\":3690,\"v23\":1,\"p24\":3702,\"v24\":[1,0,2,1,0,0,1,1,4,5,1,6,5,5,8,4,1,6,5,3,7,1,6,2,4,2,7,4,4,3,3,2,3,3,4,1,6,1,1,1,2,1,1,0,1],\"p25\":3800,\"v25\":[1,0,1,0,0,1,4,1,1,1,2,2,4,2,3,6,4,7,4,7,5,4,7,5,9,5,7,4,5,9,6,3,4,6,3,2,1,2,4,3,1,3,1,0,2],\"p26\":3899,\"v26\":[1,0,0,1,0,1,0,1,1,2,1,3,4,1,3,6,2,6,8,2,8,5,4,4,3,5,6,7,8,8,2,9,8,9,6,4,2,5,1,4,5,3,2,2,5,5,3,0,0,1,0,0,2],\"p27\":3986,\"v27\":1,\"p28\":3999,\"v28\":[2,0,0,0,0,0,0,0,0,3,1,2,2,3,2,1,8,3,3,4,6,4,9,5,8,7,5,8,12,9,6,2,13,8,7,6,6,7,6,6,8,4,7,1,4,5,1,1,1,1,1,2,1,1,0,0,0,1],\"p29\":4103,\"v29\":[1,0,0,0,1,1,1,2,1,0,3,5,2,2,3,7,6,3,6,2,7,10,9,8,9,9,13,9,6,10,6,16,5,6,5,7,6,8,13,5,2,4,4,3,3,2,2,2,2,0,1,0,0,0,1],\"p30\":4188,\"v30\":1,\"p31\":4202,\"v31\":[1,0,0,0,1,0,0,0,0,1,2,3,1,1,4,4,2,2,7,2,8,4,5,7,12,6,10,12,7,5,10,11,8,5,13,11,10,11,4,4,6,1,7,3,2,3,3,4,2,0,3,0,1,1,1,2,2,0,0,0,0,1,0,0,0,1],\"p32\":4305,\"v32\":[1,0,0,0,1,0,2,2,0,5,1,3,1,2,10,3,7,2,2,3,3,8,7,13,17,14,10,11,7,14,7,9,6,13,10,12,12,11,14,5,4,6,1,3,5,3,3,1,0,2,0,0,0,1],\"p33\":4375,\"v33\":1,\"p34\":4404,\"v34\":[1,0,0,0,0,1,0,0,1,1,0,0,3,1,2,1,3,2,1,4,5,4,8,8,12,12,16,10,6,12,12,13,13,8,13,12,16,12,9,9,6,10,10,7,6,3,8,4,3,4,2,1,2,2,1,0,1],\"p35\":4516,\"v35\":[1,3,0,3,5,1,4,6,7,8,7,10,5,7,4,5,10,12,10,13,16,8,16,16,20,9,12,15,12,13,11,4,14,4,3,10,7,0,6,3,4,2,5,0,1,2,0,0,1,1,1,1],\"p36\":4609,\"v36\":[1,0,0,0,1,1,0,1,1,0,1,1,6,0,2,5,5,5,7,7,6,10,12,7,11,11,10,17,16,11,9,11,14,16,19,15,14,16,11,15,9,7,8,10,4,5,5,2,2,3,3,2,0,0,3,2,0,1,1,1],\"p37\":4709,\"v37\":[1,0,0,1,0,0,1,0,1,0,0,0,1,0,4,5,2,5,4,7,4,2,7,8,10,18,9,11,15,20,10,11,13,16,15,17,10,10,20,16,10,11,12,5,20,3,5,1,8,5,6,6,5,4,0,3,0,0,1,1,2,2,0,0,0,0,1],\"p38\":4815,\"v38\":[1,0,2,1,1,0,1,1,0,1,1,6,2,2,3,5,2,5,11,8,2,10,11,14,20,11,7,14,10,16,12,13,14,19,13,14,7,18,9,10,9,15,9,5,3,4,4,4,2,5,1,4,1,0,2,1],\"p39\":4923,\"v39\":[2,2,0,2,3,1,7,4,4,9,3,6,13,11,13,10,14,14,7,13,19,5,16,17,18,9,15,22,12,14,11,9,13,12,10,12,5,8,8,4,5,5,1,0,1,0,1,1,1,0,0,0,0,0,1,0,0,1],\"p40\":5024,\"v40\":[1,1,1,0,1,5,4,2,2,8,11,7,3,10,9,10,17,13,12,10,14,23,16,15,24,12,9,11,11,18,9,14,15,4,7,5,11,9,5,4,4,5,6,4,4,1,2,1,0,4],\"p41\":5122,\"v41\":[1,0,1,1,0,1,2,2,2,4,1,6,5,3,2,7,6,9,8,13,11,10,14,13,15,17,17,16,19,13,16,10,15,16,14,8,9,7,4,15,8,7,3,7,5,2,2,3,1,3,2,0,1,1,0,1,1,0,0,0,0,1],\"p42\":5223,\"v42\":[1,0,0,0,0,0,0,0,1,1,3,4,2,3,2,5,2,11,9,14,9,11,14,11,9,15,17,15,21,16,17,26,22,12,10,11,14,8,12,8,5,9,7,5,5,4,5,3,4,4,2,2,1,1,0,2,1,0,1,0,1],\"p43\":5327,\"v43\":[3,1,1,0,0,2,6,0,4,2,2,2,7,5,5,6,6,4,5,18,10,12,10,14,12,16,17,17,20,20,14,23,18,17,10,16,14,6,4,6,8,5,7,3,5,4,4,1,4,2,1,3,2,0,1,1,0,1],\"p44\":5430,\"v44\":[1,0,1,1,2,4,1,4,4,1,3,5,8,3,5,8,10,14,12,14,12,12,14,14,23,17,18,20,13,12,16,16,13,15,10,5,8,8,9,4,2,3,6,5,1,3,1,2,0,0,2,0,2,2,1],\"p45\":5526,\"v45\":[1,0,0,0,0,0,0,1,1,2,0,0,1,4,1,4,6,4,8,8,8,11,6,9,12,13,13,13,18,10,12,26,13,15,19,13,3,16,9,9,17,13,5,6,5,5,5,4,4,3,3,3,2,1,1,2,1,1,0,0,0,1],\"p46\":5630,\"v46\":[1,0,0,0,0,0,1,1,2,1,2,3,0,5,4,2,8,3,7,3,9,6,11,7,9,10,11,10,17,12,10,15,17,12,10,15,16,12,13,11,7,12,12,6,5,4,2,3,6,2,4,2,1,2,0,0,1,1],\"p47\":5726,\"v47\":[1,0,0,2,0,0,0,0,0,0,1,0,1,0,2,2,1,4,0,3,4,1,5,2,5,5,4,7,9,6,14,12,9,13,10,12,12,16,17,13,17,14,8,8,10,8,4,3,5,8,3,4,6,1,4,4,1,2,1,0,4,1],\"p48\":5840,\"v48\":[1,0,0,1,3,0,3,4,3,9,0,3,4,4,7,10,10,4,9,8,14,14,13,13,6,16,12,9,8,11,10,11,12,10,11,5,6,7,5,7,6,4,4,2,1,2,2,1,1,0,0,0,1,0,1],\"p49\":5939,\"v49\":[1,0,0,0,1,2,0,2,3,2,3,2,7,3,5,5,9,6,10,7,9,10,4,11,8,18,12,11,17,12,15,10,8,9,7,2,10,6,11,4,5,5,3,4,4,4,0,1,2,1,1,1,0,0,0,0,0,1],\"p50\":6032,\"v50\":[1,0,0,0,0,0,0,0,0,0,1,0,1,1,1,2,4,2,3,3,1,2,4,4,6,8,8,8,8,10,14,6,6,4,11,9,8,12,10,17,12,13,10,10,6,4,7,7,7,4,4,1,1,1,2,2,1,3,3,0,3,1],\"p51\":6142,\"v51\":[1,0,0,0,0,0,2,3,1,2,3,1,3,2,4,4,7,5,10,9,6,9,2,10,11,11,10,9,5,9,15,16,11,6,9,2,11,7,8,3,7,3,5,4,2,3,1,1,2,1,1,0,0,0,0,1],\"p52\":6245,\"v52\":[1,1,1,0,1,1,0,2,0,4,3,1,4,2,2,2,3,8,7,5,6,5,7,11,9,9,9,12,11,6,10,7,11,8,8,7,8,1,6,10,5,3,1,3,0,1,1,1,1,2,0,0,0,1,0,1,0,0,1],\"p53\":6340,\"v53\":[1,0,0,0,0,0,0,0,0,1,0,0,3,1,1,2,1,2,3,7,3,2,1,0,4,5,4,5,7,12,7,10,12,8,10,7,8,5,4,5,5,3,6,5,3,6,6,6,1,5,2,0,0,3,1,2,0,1],\"p54\":6454,\"v54\":[1,0,1,1,1,2,2,2,2,8,0,3,7,6,3,7,3,4,6,18,8,9,8,6,12,4,13,8,11,3,5,2,7,2,6,4,2,2,2,2,1,1,1,1,0,1,0,1,0,2,1],\"p55\":6550,\"v55\":[1,0,0,0,0,0,2,0,0,0,0,0,1,2,1,0,4,2,1,4,3,9,4,6,7,2,6,9,7,6,9,4,7,6,3,5,6,5,2,3,2,4,4,2,4,3,0,2,1,0,0,1,0,0,0,1],\"p56\":6647,\"v56\":1,\"p57\":6661,\"v57\":[1,1,0,2,3,3,1,4,5,4,2,7,4,1,8,3,3,6,4,8,4,3,8,11,3,2,1,4,3,3,4,3,4,0,1,2,1,4,2,1,0,1,0,1,1],\"p58\":6758,\"v58\":[1,1,0,2,0,0,2,5,2,1,4,3,7,4,3,6,2,3,2,2,2,6,6,4,9,2,5,7,7,2,4,2,2,2,4,1,2,3,2,2,1,0,0,1,0,1,0,2,0,1,0,0,0,0,1],\"p59\":6863,\"v59\":[2,1,0,0,2,1,1,1,3,1,1,1,1,2,5,2,5,5,4,6,5,4,4,4,5,5,7,6,2,5,5,2,3,4,4,0,1,0,1,0,1,0,1],\"p60\":6919,\"v60\":1,\"p61\":6969,\"v61\":[1,1,2,0,0,2,3,4,0,4,2,4,2,7,1,3,2,3,4,6,5,3,7,2,1,7,2,2,1,0,1,2,2,2,0,2,0,0,1],\"p62\":7062,\"v62\":[1,0,0,0,0,1,0,2,0,0,0,0,0,1,2,1,2,2,1,1,2,1,0,5,6,5,5,1,1,2,3,3,3,2,3,3,3,2,3,2,2,2,0,1,0,0,1,0,0,0,0,0,0,1],\"p63\":7168,\"v63\":[1,0,1,0,0,2,0,0,0,1,3,2,1,0,4,2,1,0,2,1,5,2,1,2,3,3,1,2,2,5,3,2,1,1,2,0,0,2,0,0,0,3,0,0,0,0,0,0,2],\"p64\":7278,\"v64\":[1,0,2,1,2,3,2,0,2,1,2,2,2,3,5,3,2,4,1,1,2,3,0,0,0,1,2,2,3,2,1,1,0,1],\"p65\":7370,\"v65\":[1,0,0,0,0,0,0,1,0,0,1,1,0,0,1,2,4,2,1,0,2,2,1,1,3,1,2,2,5,1,1,1,0,0,1,1,1,2,1,0,0,1,1,0,0,0,0,0,2],\"p66\":7476,\"v66\":[1,0,0,0,0,0,0,0,0,1,0,1,1,1,0,1,0,0,1,1,2,0,1,2,4,2,0,2,1,2,2,0,2,1],\"p67\":7537,\"v67\":1,\"p68\":7585,\"v68\":[1,1,0,1,0,1,1,1,2,1,2,0,2,3,0,1,1,0,1,0,1,1,2,1,1,0,0,0,0,1,0,1,2],\"p69\":7678,\"v69\":[1,0,0,0,1],\"p70\":7699,\"v70\":[2,0,3,1,1,0,0,0,1,1,1,1,0,0,0,0,1,1,0,1],\"p71\":7793,\"v71\":[1,0,0,0,0,0,0,1,0,0,2,1,1,1,0,0,3,1,2,1,0,0,0,0,0,1],\"p72\":7831,\"v72\":1,\"p73\":7885,\"v73\":[1,1,0,1,0,0,0,0,1,0,0,0,0,0,0,0,0,1,1,2,0,0,0,1,1,0,0,0,0,1,0,0,0,1,1],\"p74\":7989,\"v74\":[1,0,0,0,0,1,0,0,0,0,0,0,1,0,0,0,0,0,0,0,3],\"p75\":8020,\"v75\":1,\"p76\":8088,\"v76\":1,\"p77\":8105,\"v77\":[1,0,1,0,0,0,0,0,0,0,1],\"p78\":8130,\"v78\":1,\"p79\":8198,\"v79\":[1,0,1],\"p80\":8214,\"v80\":[1,0,0,0,0,0,0,1],\"p81\":8303,\"v81\":[1,1],\"p82\":8408,\"v82\":1,\"p83\":8744,\"v83\":1,\"p84\":8820,\"v84\":1,\"p85\":9026,\"v85\":1,\"p86\":9339,\"v86\":1}},{\"_typename\":\"TPaveText\",\"fUniqueID\":0,\"fBits\":9,\"fLineColor\":1,\"fLineStyle\":1,\"fLineWidth\":1,\"fFillColor\":0,\"fFillStyle\":0,\"fX1\":-1.47198278055494,\"fY1\":5.42478827603351,\"fX2\":1.47198278055494,\"fY2\":6.18750015180558,\"fX1NDC\":0.382241379310345,\"fY1NDC\":0.933983055615829,\"fX2NDC\":0.617758620689655,\"fY2NDC\":0.995000004768372,\"fBorderSize\":0,\"fInit\":1,\"fShadowColor\":1,\"fCornerRadius\":0,\"fOption\":\"blNDC\",\"fName\":\"title\",\"fTextAngle\":0,\"fTextSize\":0,\"fTextAlign\":22,\"fTextColor\":1,\"fTextFont\":42,\"fLabel\":\"\",\"fLongest\":12,\"fMargin\":0.05,\"fLines\":{\"_typename\":\"TList\",\"name\":\"TList\",\"arr\":[{\"_typename\":\"TLatex\",\"fUniqueID\":0,\"fBits\":0,\"fName\":\"\",\"fTitle\":\"histogram 2d\",\"fTextAngle\":0,\"fTextSize\":0,\"fTextAlign\":0,\"fTextColor\":0,\"fTextFont\":0,\"fX\":0,\"fY\":0,\"fLineColor\":1,\"fLineStyle\":1,\"fLineWidth\":2,\"fLimitFactorSize\":3,\"fOriginSize\":0.0518644079566002}],\"opt\":[\"\"]}},{\"_typename\":\"TStyle\",\"fUniqueID\":0,\"fBits\":0,\"fName\":\"Modern\",\"fTitle\":\"Modern Style\",\"fLineColor\":1,\"fLineStyle\":1,\"fLineWidth\":1,\"fFillColor\":19,\"fFillStyle\":1001,\"fMarkerColor\":1,\"fMarkerStyle\":1,\"fMarkerSize\":1,\"fTextAngle\":0,\"fTextSize\":0.05,\"fTextAlign\":11,\"fTextColor\":1,\"fTextFont\":62,\"fXaxis\":{\"_typename\":\"TAttAxis\",\"fNdivisions\":510,\"fAxisColor\":1,\"fLabelColor\":1,\"fLabelFont\":42,\"fLabelOffset\":0.005,\"fLabelSize\":0.035,\"fTickLength\":0.03,\"fTitleOffset\":1,\"fTitleSize\":0.035,\"fTitleColor\":1,\"fTitleFont\":42},\"fYaxis\":{\"_typename\":\"TAttAxis\",\"fNdivisions\":510,\"fAxisColor\":1,\"fLabelColor\":1,\"fLabelFont\":42,\"fLabelOffset\":0.005,\"fLabelSize\":0.035,\"fTickLength\":0.03,\"fTitleOffset\":0,\"fTitleSize\":0.035,\"fTitleColor\":1,\"fTitleFont\":42},\"fZaxis\":{\"_typename\":\"TAttAxis\",\"fNdivisions\":510,\"fAxisColor\":1,\"fLabelColor\":1,\"fLabelFont\":42,\"fLabelOffset\":0.005,\"fLabelSize\":0.035,\"fTickLength\":0.03,\"fTitleOffset\":1,\"fTitleSize\":0.035,\"fTitleColor\":1,\"fTitleFont\":42},\"fBarWidth\":1,\"fBarOffset\":0,\"fColorModelPS\":0,\"fDrawBorder\":0,\"fOptLogx\":0,\"fOptLogy\":0,\"fOptLogz\":0,\"fOptDate\":0,\"fOptStat\":1111,\"fOptTitle\":1,\"fOptFile\":0,\"fOptFit\":0,\"fShowEventStatus\":0,\"fShowEditor\":0,\"fShowToolBar\":0,\"fNumberContours\":20,\"fAttDate\":{\"_typename\":\"TAttText\",\"fTextAngle\":0,\"fTextSize\":0.025,\"fTextAlign\":11,\"fTextColor\":1,\"fTextFont\":62},\"fDateX\":0.01,\"fDateY\":0.01,\"fEndErrorSize\":2,\"fErrorX\":0.5,\"fFuncColor\":2,\"fFuncStyle\":1,\"fFuncWidth\":2,\"fGridColor\":0,\"fGridStyle\":3,\"fGridWidth\":1,\"fLegendBorderSize\":1,\"fLegendFillColor\":0,\"fLegendFont\":42,\"fLegendTextSize\":0,\"fHatchesLineWidth\":1,\"fHatchesSpacing\":1,\"fFrameFillColor\":0,\"fFrameLineColor\":1,\"fFrameFillStyle\":1001,\"fFrameLineStyle\":1,\"fFrameLineWidth\":1,\"fFrameBorderSize\":1,\"fFrameBorderMode\":0,\"fHistFillColor\":0,\"fHistLineColor\":602,\"fHistFillStyle\":1001,\"fHistLineStyle\":1,\"fHistLineWidth\":1,\"fHistMinimumZero\":false,\"fHistTopMargin\":0.05,\"fCanvasPreferGL\":false,\"fCanvasColor\":0,\"fCanvasBorderSize\":2,\"fCanvasBorderMode\":0,\"fCanvasDefH\":500,\"fCanvasDefW\":700,\"fCanvasDefX\":10,\"fCanvasDefY\":10,\"fPadColor\":0,\"fPadBorderSize\":2,\"fPadBorderMode\":0,\"fPadBottomMargin\":0.1,\"fPadTopMargin\":0.1,\"fPadLeftMargin\":0.1,\"fPadRightMargin\":0.1,\"fPadGridX\":false,\"fPadGridY\":false,\"fPadTickX\":0,\"fPadTickY\":0,\"fPaperSizeX\":20,\"fPaperSizeY\":26,\"fScreenFactor\":1,\"fStatColor\":0,\"fStatTextColor\":1,\"fStatBorderSize\":1,\"fStatFont\":42,\"fStatFontSize\":0,\"fStatStyle\":1001,\"fStatFormat\":\"6.4g\",\"fStatX\":0.98,\"fStatY\":0.935,\"fStatW\":0.2,\"fStatH\":0.16,\"fStripDecimals\":true,\"fTitleAlign\":23,\"fTitleColor\":0,\"fTitleTextColor\":1,\"fTitleBorderSize\":0,\"fTitleFont\":42,\"fTitleFontSize\":0.05,\"fTitleStyle\":0,\"fTitleX\":0.5,\"fTitleY\":0.995,\"fTitleW\":0,\"fTitleH\":0,\"fLegoInnerR\":0.5,\"fLineStyles\":[\"\",\"  \",\" 12 12\",\" 4 8\",\" 12 16 4 16\",\" 20 12 4 12\",\" 20 12 4 12 4 12 4 12\",\" 20 20\",\" 20 12 4 12 4 12\",\" 80 20\",\" 80 40 4 40\",\"  \",\"  \",\"  \",\"  \",\"  \",\"  \",\"  \",\"  \",\"  \",\"  \",\"  \",\"  \",\"  \",\"  \",\"  \",\"  \",\"  \",\"  \",\"  \"],\"fHeaderPS\":\"\",\"fTitlePS\":\"\",\"fFitFormat\":\"5.4g\",\"fPaintTextFormat\":\"g\",\"fLineScalePS\":3,\"fJoinLinePS\":0,\"fCapLinePS\":0,\"fTimeOffset\":788918400,\"fImageScaling\":1}],\"opt\":[\"\",\"colz\",\"blNDC\",\"\"]},\"fExecs\":null,\"fName\":\"c1\",\"fTitle\":\"c1\",\"fNumPaletteColor\":0,\"fNextPaletteColor\":0,\"fDISPLAY\":\"$DISPLAY\",\"fDoubleBuffer\":0,\"fRetained\":true,\"fXsizeUser\":0,\"fYsizeUser\":0,\"fXsizeReal\":20,\"fYsizeReal\":14.28571,\"fWindowTopX\":0,\"fWindowTopY\":0,\"fWindowWidth\":0,\"fWindowHeight\":0,\"fCw\":696,\"fCh\":472,\"fCatt\":{\"_typename\":\"TAttCanvas\",\"fXBetween\":2,\"fYBetween\":2,\"fTitleFromTop\":1.2,\"fXdate\":0.2,\"fYdate\":0.3,\"fAdate\":1},\"kMoveOpaque\":true,\"kResizeOpaque\":true,\"fHighLightColor\":2,\"fBatch\":true,\"kShowEventStatus\":false,\"kAutoExec\":true,\"kMenuBar\":true});\n",
       "   Core.settings.HandleKeys = false;\n",
       "   Core.draw(\"root_plot_1717609770510\", obj, \"\");\n",
       "}\n",
       "\n",
       "function script_load_root_plot_1717609770510(src, on_error) {\n",
       "    let script = document.createElement('script');\n",
       "    script.src = src;\n",
       "    script.onload = function() { display_root_plot_1717609770510(JSROOT); };\n",
       "    script.onerror = function() { script.remove(); on_error(); };\n",
       "    document.head.appendChild(script);\n",
       "}\n",
       "\n",
       "if (typeof requirejs !== 'undefined') {\n",
       "\n",
       "    // We are in jupyter notebooks, use require.js which should be configured already\n",
       "    requirejs.config({\n",
       "       paths: { 'JSRootCore' : [ 'scripts/JSRoot.core', 'https://root.cern/js/6.1.1/scripts/JSRoot.core.min', 'https://jsroot.gsi.de/6.1.1/scripts/JSRoot.core.min' ] }\n",
       "    })(['JSRootCore'],  function(Core) {\n",
       "       display_root_plot_1717609770510(Core);\n",
       "    });\n",
       "\n",
       "} else if (typeof JSROOT !== 'undefined') {\n",
       "\n",
       "   // JSROOT already loaded, just use it\n",
       "   display_root_plot_1717609770510(JSROOT);\n",
       "\n",
       "} else {\n",
       "\n",
       "    // We are in jupyterlab without require.js, directly loading jsroot\n",
       "    // Jupyterlab might be installed in a different base_url so we need to know it.\n",
       "    try {\n",
       "        var base_url = JSON.parse(document.getElementById('jupyter-config-data').innerHTML).baseUrl;\n",
       "    } catch(_) {\n",
       "        var base_url = '/';\n",
       "    }\n",
       "\n",
       "    // Try loading a local version of requirejs and fallback to cdn if not possible.\n",
       "    script_load_root_plot_1717609770510(base_url + 'static/scripts/JSRoot.core.js', function(){\n",
       "        console.error('Fail to load JSROOT locally, please check your jupyter_notebook_config.py file');\n",
       "        script_load_root_plot_1717609770510('https://root.cern/js/6.1.1/scripts/JSRoot.core.min.js', function(){\n",
       "            document.getElementById(\"root_plot_1717609770510\").innerHTML = \"Failed to load JSROOT\";\n",
       "        });\n",
       "    });\n",
       "}\n",
       "\n",
       "</script>\n"
      ],
      "text/plain": [
       "<IPython.core.display.HTML object>"
      ]
     },
     "metadata": {},
     "output_type": "display_data"
    }
   ],
   "source": [
    "h2d->Draw(\"colz\");\n",
    "c1->Draw()"
   ]
  },
  {
   "cell_type": "code",
   "execution_count": null,
   "metadata": {},
   "outputs": [],
   "source": []
  }
 ],
 "metadata": {
  "kernelspec": {
   "display_name": "ROOT C++",
   "language": "c++",
   "name": "root"
  },
  "language_info": {
   "codemirror_mode": "text/x-c++src",
   "file_extension": ".C",
   "mimetype": " text/x-c++src",
   "name": "c++"
  }
 },
 "nbformat": 4,
 "nbformat_minor": 2
}
